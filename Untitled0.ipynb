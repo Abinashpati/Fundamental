{
  "nbformat": 4,
  "nbformat_minor": 0,
  "metadata": {
    "colab": {
      "provenance": [],
      "authorship_tag": "ABX9TyNt3Oao75oqb7jFy1CanDFi",
      "include_colab_link": true
    },
    "kernelspec": {
      "name": "python3",
      "display_name": "Python 3"
    },
    "language_info": {
      "name": "python"
    }
  },
  "cells": [
    {
      "cell_type": "markdown",
      "metadata": {
        "id": "view-in-github",
        "colab_type": "text"
      },
      "source": [
        "<a href=\"https://colab.research.google.com/github/Abinashpati/Fundamental/blob/main/Untitled0.ipynb\" target=\"_parent\"><img src=\"https://colab.research.google.com/assets/colab-badge.svg\" alt=\"Open In Colab\"/></a>"
      ]
    },
    {
      "cell_type": "markdown",
      "source": [
        "#TITLE : HAND WRITTEN DIGIT PREDICTION:CLASSIFICATION ANALYSIS"
      ],
      "metadata": {
        "id": "rfdsoSL1UALV"
      }
    },
    {
      "cell_type": "markdown",
      "source": [
        "The digit data set consists of 8x8 pixel images of digits. The image attributes of the dataset stores 8x8 arrays of grayscale values for each image. we will use these arrays to visualize the first 4 images. The target attribute of the dataset stores the digit each image represents."
      ],
      "metadata": {
        "id": "aFgLztdBUSEG"
      }
    },
    {
      "cell_type": "markdown",
      "source": [
        "# IMPORT LIBRARY"
      ],
      "metadata": {
        "id": "W5oTSlZwe2Mm"
      }
    },
    {
      "cell_type": "code",
      "source": [
        "import pandas as pd\n",
        "import numpy as np\n",
        "import matplotlib.pyplot as plt\n"
      ],
      "metadata": {
        "id": "BQt57YgGe7kC"
      },
      "execution_count": 2,
      "outputs": []
    },
    {
      "cell_type": "markdown",
      "source": [
        "# IMPORT DATA"
      ],
      "metadata": {
        "id": "qxOhdh4ifaC-"
      }
    },
    {
      "cell_type": "code",
      "source": [
        "_, axes = plt.subplots (nrows=1, ncols=4, figsize=(10, 3))\n",
        "for ax, image, label in zip(axes, df.images, df.target):\n",
        "    ax.set_axis_off()\n",
        "    ax.imshow(image, cmap=plt.cm.gray_r, interpolation=\"nearest\")\n",
        "    ax.set_title(\"Training: %i\" % label)"
      ],
      "metadata": {
        "colab": {
          "base_uri": "https://localhost:8080/",
          "height": 227
        },
        "id": "6utkM-OWfhRS",
        "outputId": "4461a3c7-18c8-4555-f5c3-b3b7169ea607"
      },
      "execution_count": 18,
      "outputs": [
        {
          "output_type": "display_data",
          "data": {
            "text/plain": [
              "<Figure size 1000x300 with 4 Axes>"
            ],
            "image/png": "[encoded data removed]"
          },
          "metadata": {}
        }
      ]
    },
    {
      "cell_type": "markdown",
      "source": [
        "# DATA PROCESSING"
      ],
      "metadata": {
        "id": "tuoboJnlmdke"
      }
    },
    {
      "cell_type": "code",
      "source": [
        "df.images.shape"
      ],
      "metadata": {
        "colab": {
          "base_uri": "https://localhost:8080/"
        },
        "id": "flpCW6yVmicb",
        "outputId": "af893f64-59ee-49cc-a71d-e8bdefb007bb"
      },
      "execution_count": 19,
      "outputs": [
        {
          "output_type": "execute_result",
          "data": {
            "text/plain": [
              "(1797, 8, 8)"
            ]
          },
          "metadata": {},
          "execution_count": 19
        }
      ]
    },
    {
      "cell_type": "code",
      "source": [
        "df. images[0]"
      ],
      "metadata": {
        "colab": {
          "base_uri": "https://localhost:8080/"
        },
        "id": "BnCD--A1mxXW",
        "outputId": "71e83861-3cd9-46dd-98c9-0902083c49e4"
      },
      "execution_count": 20,
      "outputs": [
        {
          "output_type": "execute_result",
          "data": {
            "text/plain": [
              "array([[ 0.,  0.,  5., 13.,  9.,  1.,  0.,  0.],\n",
              "       [ 0.,  0., 13., 15., 10., 15.,  5.,  0.],\n",
              "       [ 0.,  3., 15.,  2.,  0., 11.,  8.,  0.],\n",
              "       [ 0.,  4., 12.,  0.,  0.,  8.,  8.,  0.],\n",
              "       [ 0.,  5.,  8.,  0.,  0.,  9.,  8.,  0.],\n",
              "       [ 0.,  4., 11.,  0.,  1., 12.,  7.,  0.],\n",
              "       [ 0.,  2., 14.,  5., 10., 12.,  0.,  0.],\n",
              "       [ 0.,  0.,  6., 13., 10.,  0.,  0.,  0.]])"
            ]
          },
          "metadata": {},
          "execution_count": 20
        }
      ]
    },
    {
      "cell_type": "code",
      "source": [
        "df.images [0]. shape"
      ],
      "metadata": {
        "colab": {
          "base_uri": "https://localhost:8080/"
        },
        "id": "z462tcy9m4eR",
        "outputId": "ac249ffe-e9e4-4b81-f775-2e382667f77b"
      },
      "execution_count": 21,
      "outputs": [
        {
          "output_type": "execute_result",
          "data": {
            "text/plain": [
              "(8, 8)"
            ]
          },
          "metadata": {},
          "execution_count": 21
        }
      ]
    },
    {
      "cell_type": "code",
      "source": [
        "len (df. images)"
      ],
      "metadata": {
        "colab": {
          "base_uri": "https://localhost:8080/"
        },
        "id": "MfPCUX4Gm8ZY",
        "outputId": "8ee294d3-0691-4dc6-a358-5adfe9f41fd9"
      },
      "execution_count": 22,
      "outputs": [
        {
          "output_type": "execute_result",
          "data": {
            "text/plain": [
              "1797"
            ]
          },
          "metadata": {},
          "execution_count": 22
        }
      ]
    },
    {
      "cell_type": "code",
      "source": [
        "n_samples = len (df. images)\n",
        "data = df.images.reshape ((n_samples, -1))"
      ],
      "metadata": {
        "id": "u0OYycHFnBOd"
      },
      "execution_count": 23,
      "outputs": []
    },
    {
      "cell_type": "code",
      "source": [
        "data[0]"
      ],
      "metadata": {
        "colab": {
          "base_uri": "https://localhost:8080/"
        },
        "id": "S4ttfyL7nJTJ",
        "outputId": "8de9fd8f-d31d-4f7a-999e-5fac4f9944a8"
      },
      "execution_count": 24,
      "outputs": [
        {
          "output_type": "execute_result",
          "data": {
            "text/plain": [
              "array([ 0.,  0.,  5., 13.,  9.,  1.,  0.,  0.,  0.,  0., 13., 15., 10.,\n",
              "       15.,  5.,  0.,  0.,  3., 15.,  2.,  0., 11.,  8.,  0.,  0.,  4.,\n",
              "       12.,  0.,  0.,  8.,  8.,  0.,  0.,  5.,  8.,  0.,  0.,  9.,  8.,\n",
              "        0.,  0.,  4., 11.,  0.,  1., 12.,  7.,  0.,  0.,  2., 14.,  5.,\n",
              "       10., 12.,  0.,  0.,  0.,  0.,  6., 13., 10.,  0.,  0.,  0.])"
            ]
          },
          "metadata": {},
          "execution_count": 24
        }
      ]
    },
    {
      "cell_type": "code",
      "source": [
        "data[0]. shape"
      ],
      "metadata": {
        "colab": {
          "base_uri": "https://localhost:8080/"
        },
        "id": "fRGDn2QlnNgG",
        "outputId": "773800cd-03dc-49b5-80ab-9c577a5cf92c"
      },
      "execution_count": 25,
      "outputs": [
        {
          "output_type": "execute_result",
          "data": {
            "text/plain": [
              "(64,)"
            ]
          },
          "metadata": {},
          "execution_count": 25
        }
      ]
    },
    {
      "cell_type": "code",
      "source": [
        "data.shape"
      ],
      "metadata": {
        "colab": {
          "base_uri": "https://localhost:8080/"
        },
        "id": "kvUy3SR6nQ2V",
        "outputId": "9f7ccf6d-52d6-4d10-878e-d176fa03cf72"
      },
      "execution_count": 26,
      "outputs": [
        {
          "output_type": "execute_result",
          "data": {
            "text/plain": [
              "(1797, 64)"
            ]
          },
          "metadata": {},
          "execution_count": 26
        }
      ]
    },
    {
      "cell_type": "markdown",
      "source": [
        "S"
      ],
      "metadata": {
        "id": "3PQJZnSwnqJX"
      }
    },
    {
      "cell_type": "markdown",
      "source": [
        "# SCALING IMAGE DATA"
      ],
      "metadata": {
        "id": "hkTL7GurnqiB"
      }
    },
    {
      "cell_type": "code",
      "source": [
        "data.min()"
      ],
      "metadata": {
        "colab": {
          "base_uri": "https://localhost:8080/"
        },
        "id": "OWIAtm0unvIx",
        "outputId": "f0cbcd83-6d8e-4a63-913d-550a53f890ed"
      },
      "execution_count": 28,
      "outputs": [
        {
          "output_type": "execute_result",
          "data": {
            "text/plain": [
              "0.0"
            ]
          },
          "metadata": {},
          "execution_count": 28
        }
      ]
    },
    {
      "cell_type": "code",
      "source": [
        "data.max()"
      ],
      "metadata": {
        "colab": {
          "base_uri": "https://localhost:8080/"
        },
        "id": "5u3mLVw1n1D9",
        "outputId": "7d510430-7a5b-4146-e098-558587f2a768"
      },
      "execution_count": 30,
      "outputs": [
        {
          "output_type": "execute_result",
          "data": {
            "text/plain": [
              "16.0"
            ]
          },
          "metadata": {},
          "execution_count": 30
        }
      ]
    },
    {
      "cell_type": "code",
      "source": [
        "data=data/16"
      ],
      "metadata": {
        "id": "Wqf0TB-dn5O3"
      },
      "execution_count": 31,
      "outputs": []
    },
    {
      "cell_type": "code",
      "source": [
        "data.min()"
      ],
      "metadata": {
        "colab": {
          "base_uri": "https://localhost:8080/"
        },
        "id": "ZoN2EwWVn-X6",
        "outputId": "6c9a294e-f38f-492e-81f6-f78b80006e72"
      },
      "execution_count": 32,
      "outputs": [
        {
          "output_type": "execute_result",
          "data": {
            "text/plain": [
              "0.0"
            ]
          },
          "metadata": {},
          "execution_count": 32
        }
      ]
    },
    {
      "cell_type": "code",
      "source": [
        "data.max()"
      ],
      "metadata": {
        "colab": {
          "base_uri": "https://localhost:8080/"
        },
        "id": "N87YBL3CoAih",
        "outputId": "95377f8c-bab4-4f90-fb38-6cee0cd90ba8"
      },
      "execution_count": 33,
      "outputs": [
        {
          "output_type": "execute_result",
          "data": {
            "text/plain": [
              "1.0"
            ]
          },
          "metadata": {},
          "execution_count": 33
        }
      ]
    },
    {
      "cell_type": "code",
      "source": [
        "data[0]"
      ],
      "metadata": {
        "colab": {
          "base_uri": "https://localhost:8080/"
        },
        "id": "FqLzWu9joBxK",
        "outputId": "277d196f-eca6-4e95-9c73-53179dcf1181"
      },
      "execution_count": 34,
      "outputs": [
        {
          "output_type": "execute_result",
          "data": {
            "text/plain": [
              "array([0.    , 0.    , 0.3125, 0.8125, 0.5625, 0.0625, 0.    , 0.    ,\n",
              "       0.    , 0.    , 0.8125, 0.9375, 0.625 , 0.9375, 0.3125, 0.    ,\n",
              "       0.    , 0.1875, 0.9375, 0.125 , 0.    , 0.6875, 0.5   , 0.    ,\n",
              "       0.    , 0.25  , 0.75  , 0.    , 0.    , 0.5   , 0.5   , 0.    ,\n",
              "       0.    , 0.3125, 0.5   , 0.    , 0.    , 0.5625, 0.5   , 0.    ,\n",
              "       0.    , 0.25  , 0.6875, 0.    , 0.0625, 0.75  , 0.4375, 0.    ,\n",
              "       0.    , 0.125 , 0.875 , 0.3125, 0.625 , 0.75  , 0.    , 0.    ,\n",
              "       0.    , 0.    , 0.375 , 0.8125, 0.625 , 0.    , 0.    , 0.    ])"
            ]
          },
          "metadata": {},
          "execution_count": 34
        }
      ]
    },
    {
      "cell_type": "markdown",
      "source": [
        "# TRAIN TEST SPLIT"
      ],
      "metadata": {
        "id": "GXH8Slp7oOVs"
      }
    },
    {
      "cell_type": "code",
      "source": [
        "from sklearn.model_selection import train_test_split\n",
        "X_train, X_test, y_train, y_test = train_test_split(data, df.target, test_size=0.3)\n",
        "X_train.shape, X_test.shape, y_train.shape, y_test.shape"
      ],
      "metadata": {
        "colab": {
          "base_uri": "https://localhost:8080/"
        },
        "id": "RfJzIvRboTQC",
        "outputId": "131208c4-d719-4462-afb6-4d47e400c78b"
      },
      "execution_count": 35,
      "outputs": [
        {
          "output_type": "execute_result",
          "data": {
            "text/plain": [
              "((1257, 64), (540, 64), (1257,), (540,))"
            ]
          },
          "metadata": {},
          "execution_count": 35
        }
      ]
    },
    {
      "cell_type": "markdown",
      "source": [
        "# RANDOM FOREST MODEL"
      ],
      "metadata": {
        "id": "eHIpyGeHolbI"
      }
    },
    {
      "cell_type": "code",
      "source": [
        "from sklearn.ensemble import RandomForestClassifier\n",
        "rf = RandomForestClassifier ()\n",
        "rf.fit (X_train, y_train)"
      ],
      "metadata": {
        "colab": {
          "base_uri": "https://localhost:8080/",
          "height": 51
        },
        "id": "GXI2Xn_toppo",
        "outputId": "88849471-aedb-4aa7-b6db-16884c397b9d"
      },
      "execution_count": 36,
      "outputs": [
        {
          "output_type": "execute_result",
          "data": {
            "text/plain": [
              "RandomForestClassifier()"
            ],
            "text/html": [
              "<style>#sk-container-id-1 {color: black;background-color: white;}#sk-container-id-1 pre{padding: 0;}#sk-container-id-1 div.sk-toggleable {background-color: white;}#sk-container-id-1 label.sk-toggleable__label {cursor: pointer;display: block;width: 100%;margin-bottom: 0;padding: 0.3em;box-sizing: border-box;text-align: center;}#sk-container-id-1 label.sk-toggleable__label-arrow:before {content: \"▸\";float: left;margin-right: 0.25em;color: #696969;}#sk-container-id-1 label.sk-toggleable__label-arrow:hover:before {color: black;}#sk-container-id-1 div.sk-estimator:hover label.sk-toggleable__label-arrow:before {color: black;}#sk-container-id-1 div.sk-toggleable__content {max-height: 0;max-width: 0;overflow: hidden;text-align: left;background-color: #f0f8ff;}#sk-container-id-1 div.sk-toggleable__content pre {margin: 0.2em;color: black;border-radius: 0.25em;background-color: #f0f8ff;}#sk-container-id-1 input.sk-toggleable__control:checked~div.sk-toggleable__content {max-height: 200px;max-width: 100%;overflow: auto;}#sk-container-id-1 input.sk-toggleable__control:checked~label.sk-toggleable__label-arrow:before {content: \"▾\";}#sk-container-id-1 div.sk-estimator input.sk-toggleable__control:checked~label.sk-toggleable__label {background-color: #d4ebff;}#sk-container-id-1 div.sk-label input.sk-toggleable__control:checked~label.sk-toggleable__label {background-color: #d4ebff;}#sk-container-id-1 input.sk-hidden--visually {border: 0;clip: rect(1px 1px 1px 1px);clip: rect(1px, 1px, 1px, 1px);height: 1px;margin: -1px;overflow: hidden;padding: 0;position: absolute;width: 1px;}#sk-container-id-1 div.sk-estimator {font-family: monospace;background-color: #f0f8ff;border: 1px dotted black;border-radius: 0.25em;box-sizing: border-box;margin-bottom: 0.5em;}#sk-container-id-1 div.sk-estimator:hover {background-color: #d4ebff;}#sk-container-id-1 div.sk-parallel-item::after {content: \"\";width: 100%;border-bottom: 1px solid gray;flex-grow: 1;}#sk-container-id-1 div.sk-label:hover label.sk-toggleable__label {background-color: #d4ebff;}#sk-container-id-1 div.sk-serial::before {content: \"\";position: absolute;border-left: 1px solid gray;box-sizing: border-box;top: 0;bottom: 0;left: 50%;z-index: 0;}#sk-container-id-1 div.sk-serial {display: flex;flex-direction: column;align-items: center;background-color: white;padding-right: 0.2em;padding-left: 0.2em;position: relative;}#sk-container-id-1 div.sk-item {position: relative;z-index: 1;}#sk-container-id-1 div.sk-parallel {display: flex;align-items: stretch;justify-content: center;background-color: white;position: relative;}#sk-container-id-1 div.sk-item::before, #sk-container-id-1 div.sk-parallel-item::before {content: \"\";position: absolute;border-left: 1px solid gray;box-sizing: border-box;top: 0;bottom: 0;left: 50%;z-index: -1;}#sk-container-id-1 div.sk-parallel-item {display: flex;flex-direction: column;z-index: 1;position: relative;background-color: white;}#sk-container-id-1 div.sk-parallel-item:first-child::after {align-self: flex-end;width: 50%;}#sk-container-id-1 div.sk-parallel-item:last-child::after {align-self: flex-start;width: 50%;}#sk-container-id-1 div.sk-parallel-item:only-child::after {width: 0;}#sk-container-id-1 div.sk-dashed-wrapped {border: 1px dashed gray;margin: 0 0.4em 0.5em 0.4em;box-sizing: border-box;padding-bottom: 0.4em;background-color: white;}#sk-container-id-1 div.sk-label label {font-family: monospace;font-weight: bold;display: inline-block;line-height: 1.2em;}#sk-container-id-1 div.sk-label-container {text-align: center;}#sk-container-id-1 div.sk-container {/* jupyter's `normalize.less` sets `[hidden] { display: none; }` but bootstrap.min.css set `[hidden] { display: none !important; }` so we also need the `!important` here to be able to override the default hidden behavior on the sphinx rendered scikit-learn.org. See: https://github.com/scikit-learn/scikit-learn/issues/21755 */display: inline-block !important;position: relative;}#sk-container-id-1 div.sk-text-repr-fallback {display: none;}</style><div id=\"sk-container-id-1\" class=\"sk-top-container\"><div class=\"sk-text-repr-fallback\"><pre>RandomForestClassifier()</pre><b>In a Jupyter environment, please rerun this cell to show the HTML representation or trust the notebook. <br />On GitHub, the HTML representation is unable to render, please try loading this page with nbviewer.org.</b></div><div class=\"sk-container\" hidden><div class=\"sk-item\"><div class=\"sk-estimator sk-toggleable\"><input class=\"sk-toggleable__control sk-hidden--visually\" id=\"sk-estimator-id-1\" type=\"checkbox\" checked><label for=\"sk-estimator-id-1\" class=\"sk-toggleable__label sk-toggleable__label-arrow\">RandomForestClassifier</label><div class=\"sk-toggleable__content\"><pre>RandomForestClassifier()</pre></div></div></div></div></div>"
            ]
          },
          "metadata": {},
          "execution_count": 36
        }
      ]
    },
    {
      "cell_type": "markdown",
      "source": [
        "# PREDICT TEST DATA"
      ],
      "metadata": {
        "id": "DmwqE8gwqvLK"
      }
    },
    {
      "cell_type": "code",
      "source": [
        "y_pred = rf.predict (X_test)"
      ],
      "metadata": {
        "id": "8oEpaHuzqy9S"
      },
      "execution_count": 42,
      "outputs": []
    },
    {
      "cell_type": "code",
      "source": [
        "y_pred"
      ],
      "metadata": {
        "colab": {
          "base_uri": "https://localhost:8080/"
        },
        "id": "IaB_qjaHrAuM",
        "outputId": "3db57063-0a84-4982-8c60-d3d05f61dd5b"
      },
      "execution_count": 43,
      "outputs": [
        {
          "output_type": "execute_result",
          "data": {
            "text/plain": [
              "array([1, 7, 7, 1, 2, 5, 5, 8, 7, 7, 9, 5, 6, 7, 8, 5, 2, 6, 7, 3, 6, 2,\n",
              "       9, 7, 9, 2, 7, 3, 2, 1, 8, 5, 4, 1, 4, 6, 5, 1, 7, 5, 1, 5, 7, 6,\n",
              "       9, 9, 6, 5, 2, 0, 3, 4, 1, 9, 5, 9, 4, 0, 8, 6, 3, 5, 4, 1, 1, 5,\n",
              "       8, 4, 8, 0, 8, 5, 6, 5, 2, 4, 4, 1, 6, 5, 7, 0, 7, 7, 1, 0, 3, 1,\n",
              "       3, 4, 8, 5, 4, 3, 3, 1, 1, 4, 1, 0, 9, 6, 9, 0, 7, 6, 3, 1, 6, 0,\n",
              "       8, 4, 2, 8, 9, 0, 3, 7, 7, 5, 1, 1, 1, 9, 1, 7, 7, 7, 0, 5, 6, 5,\n",
              "       0, 4, 6, 3, 2, 6, 9, 8, 8, 5, 8, 2, 1, 2, 6, 7, 1, 9, 4, 6, 1, 6,\n",
              "       2, 9, 3, 1, 1, 5, 1, 7, 6, 4, 7, 1, 0, 5, 8, 3, 2, 5, 0, 0, 8, 3,\n",
              "       9, 1, 2, 9, 7, 1, 3, 5, 0, 8, 6, 6, 1, 8, 2, 0, 5, 9, 9, 6, 7, 1,\n",
              "       9, 0, 0, 3, 6, 0, 5, 7, 8, 5, 9, 1, 0, 2, 7, 0, 6, 3, 6, 4, 9, 6,\n",
              "       4, 5, 2, 6, 1, 2, 5, 0, 0, 1, 5, 0, 1, 2, 9, 0, 3, 5, 5, 0, 8, 8,\n",
              "       6, 4, 5, 2, 3, 4, 9, 9, 4, 4, 6, 0, 5, 8, 1, 6, 3, 8, 0, 9, 7, 7,\n",
              "       9, 4, 6, 4, 9, 9, 7, 6, 2, 2, 5, 7, 3, 0, 2, 6, 5, 1, 4, 3, 7, 7,\n",
              "       1, 5, 3, 8, 6, 6, 7, 9, 0, 9, 1, 7, 4, 3, 3, 4, 2, 8, 8, 1, 5, 7,\n",
              "       5, 0, 3, 0, 7, 0, 9, 0, 2, 2, 4, 7, 4, 7, 1, 6, 6, 7, 0, 6, 4, 4,\n",
              "       5, 3, 1, 8, 6, 4, 7, 6, 1, 0, 2, 0, 5, 4, 4, 6, 1, 3, 1, 4, 9, 7,\n",
              "       6, 4, 4, 1, 5, 2, 9, 3, 2, 1, 6, 4, 5, 8, 9, 0, 5, 4, 4, 6, 6, 0,\n",
              "       6, 6, 5, 3, 1, 5, 2, 8, 8, 6, 7, 1, 2, 6, 8, 5, 4, 2, 0, 3, 0, 0,\n",
              "       2, 1, 5, 6, 0, 7, 5, 1, 6, 8, 1, 4, 0, 3, 2, 7, 1, 8, 3, 6, 6, 7,\n",
              "       3, 5, 1, 7, 5, 9, 0, 5, 3, 3, 9, 1, 8, 0, 6, 6, 0, 4, 1, 6, 1, 9,\n",
              "       2, 6, 3, 1, 9, 5, 5, 6, 3, 3, 8, 9, 2, 0, 1, 7, 3, 4, 7, 2, 5, 4,\n",
              "       2, 8, 8, 9, 3, 4, 5, 0, 8, 0, 7, 5, 6, 8, 3, 8, 9, 1, 8, 1, 3, 6,\n",
              "       5, 2, 6, 1, 8, 9, 4, 3, 5, 9, 7, 6, 3, 0, 6, 7, 6, 1, 1, 8, 2, 6,\n",
              "       7, 0, 0, 4, 0, 0, 7, 7, 6, 7, 5, 5, 6, 9, 0, 5, 5, 2, 3, 2, 1, 1,\n",
              "       0, 2, 3, 8, 9, 9, 9, 4, 2, 3, 0, 0])"
            ]
          },
          "metadata": {},
          "execution_count": 43
        }
      ]
    },
    {
      "cell_type": "markdown",
      "source": [
        "# MODEL ACCURACY"
      ],
      "metadata": {
        "id": "E2PAXJn3rdzc"
      }
    },
    {
      "cell_type": "code",
      "source": [
        "from sklearn.metrics import confusion_matrix, classification_report\n",
        "confusion_matrix (y_test, y_pred)\n"
      ],
      "metadata": {
        "colab": {
          "base_uri": "https://localhost:8080/"
        },
        "id": "1ZVnmW5xrgkF",
        "outputId": "7880eff5-1962-41ef-9fa9-6aaf1543b374"
      },
      "execution_count": 46,
      "outputs": [
        {
          "output_type": "execute_result",
          "data": {
            "text/plain": [
              "array([[57,  0,  0,  0,  1,  0,  0,  0,  0,  0],\n",
              "       [ 0, 65,  0,  0,  0,  0,  0,  0,  0,  0],\n",
              "       [ 1,  0, 44,  0,  0,  0,  0,  0,  0,  1],\n",
              "       [ 0,  0,  0, 47,  0,  1,  0,  0,  0,  0],\n",
              "       [ 0,  0,  0,  0, 46,  0,  0,  2,  0,  0],\n",
              "       [ 0,  0,  0,  0,  0, 60,  2,  0,  0,  0],\n",
              "       [ 1,  0,  0,  0,  0,  0, 65,  0,  0,  0],\n",
              "       [ 0,  0,  0,  0,  0,  0,  0, 52,  0,  1],\n",
              "       [ 0,  1,  0,  1,  1,  1,  0,  1, 41,  1],\n",
              "       [ 0,  0,  0,  0,  0,  1,  0,  0,  2, 44]])"
            ]
          },
          "metadata": {},
          "execution_count": 46
        }
      ]
    },
    {
      "cell_type": "code",
      "source": [
        "print(classification_report (y_test, y_pred))"
      ],
      "metadata": {
        "colab": {
          "base_uri": "https://localhost:8080/"
        },
        "id": "vz14AsR8ruEL",
        "outputId": "572b63de-d402-4749-bd61-f1a1b2ed7150"
      },
      "execution_count": 47,
      "outputs": [
        {
          "output_type": "stream",
          "name": "stdout",
          "text": [
            "              precision    recall  f1-score   support\n",
            "\n",
            "           0       0.97      0.98      0.97        58\n",
            "           1       0.98      1.00      0.99        65\n",
            "           2       1.00      0.96      0.98        46\n",
            "           3       0.98      0.98      0.98        48\n",
            "           4       0.96      0.96      0.96        48\n",
            "           5       0.95      0.97      0.96        62\n",
            "           6       0.97      0.98      0.98        66\n",
            "           7       0.95      0.98      0.96        53\n",
            "           8       0.95      0.87      0.91        47\n",
            "           9       0.94      0.94      0.94        47\n",
            "\n",
            "    accuracy                           0.96       540\n",
            "   macro avg       0.96      0.96      0.96       540\n",
            "weighted avg       0.96      0.96      0.96       540\n",
            "\n"
          ]
        }
      ]
    }
  ]
}